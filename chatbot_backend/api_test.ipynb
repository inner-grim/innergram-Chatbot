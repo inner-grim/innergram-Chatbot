{
 "cells": [
  {
   "cell_type": "code",
   "execution_count": 1,
   "metadata": {},
   "outputs": [],
   "source": [
    "data = {\n",
    "    \"human\" : \"기쁨, 행복힘\"\n",
    "}"
   ]
  },
  {
   "cell_type": "code",
   "execution_count": 2,
   "metadata": {},
   "outputs": [],
   "source": [
    "import requests\n",
    "\n",
    "url = 'http://127.0.0.1:8000//chatbot/get-response/'"
   ]
  },
  {
   "cell_type": "code",
   "execution_count": 4,
   "metadata": {},
   "outputs": [
    {
     "name": "stdout",
     "output_type": "stream",
     "text": [
      "Chatbot response: 오늘 기분이 기쁨과 행복하구나! 무슨 일 있었어? 기분이 좋아 보여서 나도 기분이 좋아지는구나. 함께 기쁨을 나누고 싶어! 어떤 좋은 일이 있었어? 함께 기뻐해주고 싶어!\n"
     ]
    }
   ],
   "source": [
    "import json\n",
    "data = {\n",
    "    \"question\" : \"기쁨 ,행복함\"\n",
    "}\n",
    "\n",
    "response = requests.post(url,headers={\"Content-Type\": \"application/json\"}, data=json.dumps(data))\n",
    "\n",
    "# print(f\"응답 상태 코드: {response.status_code}\")\n",
    "# print(f\"응답 내용: {response.text}\")\n",
    "if response.status_code == 200:\n",
    "    print(\"Chatbot response:\", response.json().get(\"response\"))\n",
    "elif response.status_code == 400:\n",
    "    print(\"Error:\", \"입력이 없습니다!!\")\n",
    "    \n",
    "    print(response.json().get(\"error\"))\n",
    "elif response.status_code == 500:\n",
    "    print(\"Error:\" ,\"서버에서 오류 발생\")\n",
    "    print(response.json().get(\"error\"))\n",
    "else:\n",
    "    print(\"Error:\", response.json().get(\"error\"))\n"
   ]
  },
  {
   "cell_type": "code",
   "execution_count": 5,
   "metadata": {},
   "outputs": [
    {
     "name": "stdout",
     "output_type": "stream",
     "text": [
      "Chatbot response: 와, 대단하다! 임파절에 대해 공부하고 발표까지 했는데, 다들 긍정적으로 반응해줬다니 정말 멋지다! 그 노력과 열정이 보이는 발표였겠다. 자신감이 생기고 뿌듯한 마음이 들어 다행이야. 더 많은 좋은 일들이 기다리고 있을 거야. 계속해서 자신감을 갖고 노력해 나가자!\n"
     ]
    }
   ],
   "source": [
    "data = {\n",
    "    \"question\" : \"나 회사에서 임파절에 대해 공부해서 발표했는데, 다들 긍정적으로 반응해주셔서 너무 뿌듯해!\"\n",
    "}\n",
    "\n",
    "response = requests.post(url,headers={\"Content-Type\": \"application/json\"}, data=json.dumps(data))\n",
    "\n",
    "# print(f\"응답 상태 코드: {response.status_code}\")\n",
    "# print(f\"응답 내용: {response.text}\")\n",
    "if response.status_code == 200:\n",
    "    print(\"Chatbot response:\", response.json().get(\"response\"))\n",
    "elif response.status_code == 400:\n",
    "    print(\"Error:\", \"입력이 없습니다!!\")\n",
    "    \n",
    "    print(response.json().get(\"error\"))\n",
    "elif response.status_code == 500:\n",
    "    print(\"Error:\" ,\"서버에서 오류 발생\")\n",
    "    print(response.json().get(\"error\"))\n",
    "else:\n",
    "    print(\"Error:\", response.json().get(\"error\"))"
   ]
  },
  {
   "cell_type": "code",
   "execution_count": 6,
   "metadata": {},
   "outputs": [
    {
     "name": "stdout",
     "output_type": "stream",
     "text": [
      "Chatbot response: 너무 기뻐! 언제든지 내가 여기 있어서 도와줄게. 함께 기쁨을 나누고 싶어! 언제든지 이야기해줘. 이렇게 말해줘서 고마워! 함께 더 많은 행복을 만들어보자. 이제 대화를 마무리해도 될까?\n"
     ]
    }
   ],
   "source": [
    "data = {\n",
    "    \"question\" : \"그렇게 말해줘서 고마워!\"\n",
    "}\n",
    "\n",
    "response = requests.post(url,headers={\"Content-Type\": \"application/json\"}, data=json.dumps(data))\n",
    "\n",
    "# print(f\"응답 상태 코드: {response.status_code}\")\n",
    "# print(f\"응답 내용: {response.text}\")\n",
    "if response.status_code == 200:\n",
    "    print(\"Chatbot response:\", response.json().get(\"response\"))\n",
    "elif response.status_code == 400:\n",
    "    print(\"Error:\", \"입력이 없습니다!!\")\n",
    "    \n",
    "    print(response.json().get(\"error\"))\n",
    "elif response.status_code == 500:\n",
    "    print(\"Error:\" ,\"서버에서 오류 발생\")\n",
    "    print(response.json().get(\"error\"))\n",
    "else:\n",
    "    print(\"Error:\", response.json().get(\"error\"))"
   ]
  },
  {
   "cell_type": "code",
   "execution_count": 7,
   "metadata": {},
   "outputs": [
    {
     "name": "stdout",
     "output_type": "stream",
     "text": [
      "Chatbot response: - \"기쁨, 행복함\"\n",
      "- \"나 회사에서 임파절에 대해 공부해서 발표했는데, 다들 긍정적으로 반응해주셔서 너무 뿌듯해!\"\n",
      "- \"그렇게 말해줘서 고마워!\"\n",
      "\n",
      "언제든지 다시 이야기하고 싶거나 상담이 필요하면 내가 여기 있어! 편안한 마음으로 일기를 쓰고 행복한 하루 보내길 바래. 좋은 밤 되세요! 🌙✨\n"
     ]
    }
   ],
   "source": [
    "data = {\n",
    "    \"question\" : \"그만하고 일기 작성하기\"\n",
    "}\n",
    "\n",
    "response = requests.post(url,headers={\"Content-Type\": \"application/json\"}, data=json.dumps(data))\n",
    "\n",
    "# print(f\"응답 상태 코드: {response.status_code}\")\n",
    "# print(f\"응답 내용: {response.text}\")\n",
    "if response.status_code == 200:\n",
    "    print(\"Chatbot response:\", response.json().get(\"response\"))\n",
    "elif response.status_code == 400:\n",
    "    print(\"Error:\", \"입력이 없습니다!!\")\n",
    "    \n",
    "    print(response.json().get(\"error\"))\n",
    "elif response.status_code == 500:\n",
    "    print(\"Error:\" ,\"서버에서 오류 발생\")\n",
    "    print(response.json().get(\"error\"))\n",
    "else:\n",
    "    print(\"Error:\", response.json().get(\"error\"))"
   ]
  },
  {
   "cell_type": "code",
   "execution_count": 30,
   "metadata": {},
   "outputs": [
    {
     "name": "stdout",
     "output_type": "stream",
     "text": [
      "Chatbot response: 오늘은 컬컴 스터디에서 즐거운 시간을 보내고, 함께하는 사람들의 열정에 감동받았어. 다양한 아이디어를 공유하고 함께 성장하는 모습을 보며 자극을 받았고, 새로운 에너지를 얻었어. 함께하는 사람들과의 소중한 시간을 만끽하며, 더 나은 내 자신을 위해 노력해야겠다는 다짐을 했어. 오늘도 행복한 하루였다.\n"
     ]
    }
   ],
   "source": [
    "data = {\n",
    "    \"question\" : \"그만하고 일기 작성하기\"\n",
    "}\n",
    "\n",
    "response = requests.post(url,headers={\"Content-Type\": \"application/json\"}, data=json.dumps(data))\n",
    "\n",
    "# print(f\"응답 상태 코드: {response.status_code}\")\n",
    "# print(f\"응답 내용: {response.text}\")\n",
    "if response.status_code == 200:\n",
    "    print(\"Chatbot response:\", response.json().get(\"response\"))\n",
    "elif response.status_code == 400:\n",
    "    print(\"Error:\", \"입력이 없습니다!!\")\n",
    "    \n",
    "    print(response.json().get(\"error\"))\n",
    "elif response.status_code == 500:\n",
    "    print(\"Error:\" ,\"서버에서 오류 발생\")\n",
    "    print(response.json().get(\"error\"))\n",
    "else:\n",
    "    print(\"Error:\", response.json().get(\"error\"))"
   ]
  },
  {
   "cell_type": "code",
   "execution_count": 3,
   "metadata": {},
   "outputs": [
    {
     "name": "stdout",
     "output_type": "stream",
     "text": [
      "Error: 서버에서 오류 발생\n"
     ]
    },
    {
     "ename": "JSONDecodeError",
     "evalue": "Expecting value: line 1 column 1 (char 0)",
     "output_type": "error",
     "traceback": [
      "\u001b[1;31m---------------------------------------------------------------------------\u001b[0m",
      "\u001b[1;31mJSONDecodeError\u001b[0m                           Traceback (most recent call last)",
      "File \u001b[1;32mc:\\Users\\user\\anaconda3\\envs\\ChatBot\\lib\\site-packages\\requests\\models.py:974\u001b[0m, in \u001b[0;36mResponse.json\u001b[1;34m(self, **kwargs)\u001b[0m\n\u001b[0;32m    973\u001b[0m \u001b[38;5;28;01mtry\u001b[39;00m:\n\u001b[1;32m--> 974\u001b[0m     \u001b[38;5;28;01mreturn\u001b[39;00m complexjson\u001b[38;5;241m.\u001b[39mloads(\u001b[38;5;28mself\u001b[39m\u001b[38;5;241m.\u001b[39mtext, \u001b[38;5;241m*\u001b[39m\u001b[38;5;241m*\u001b[39mkwargs)\n\u001b[0;32m    975\u001b[0m \u001b[38;5;28;01mexcept\u001b[39;00m JSONDecodeError \u001b[38;5;28;01mas\u001b[39;00m e:\n\u001b[0;32m    976\u001b[0m     \u001b[38;5;66;03m# Catch JSON-related errors and raise as requests.JSONDecodeError\u001b[39;00m\n\u001b[0;32m    977\u001b[0m     \u001b[38;5;66;03m# This aliases json.JSONDecodeError and simplejson.JSONDecodeError\u001b[39;00m\n",
      "File \u001b[1;32mc:\\Users\\user\\anaconda3\\envs\\ChatBot\\lib\\json\\__init__.py:346\u001b[0m, in \u001b[0;36mloads\u001b[1;34m(s, cls, object_hook, parse_float, parse_int, parse_constant, object_pairs_hook, **kw)\u001b[0m\n\u001b[0;32m    343\u001b[0m \u001b[38;5;28;01mif\u001b[39;00m (\u001b[38;5;28mcls\u001b[39m \u001b[38;5;129;01mis\u001b[39;00m \u001b[38;5;28;01mNone\u001b[39;00m \u001b[38;5;129;01mand\u001b[39;00m object_hook \u001b[38;5;129;01mis\u001b[39;00m \u001b[38;5;28;01mNone\u001b[39;00m \u001b[38;5;129;01mand\u001b[39;00m\n\u001b[0;32m    344\u001b[0m         parse_int \u001b[38;5;129;01mis\u001b[39;00m \u001b[38;5;28;01mNone\u001b[39;00m \u001b[38;5;129;01mand\u001b[39;00m parse_float \u001b[38;5;129;01mis\u001b[39;00m \u001b[38;5;28;01mNone\u001b[39;00m \u001b[38;5;129;01mand\u001b[39;00m\n\u001b[0;32m    345\u001b[0m         parse_constant \u001b[38;5;129;01mis\u001b[39;00m \u001b[38;5;28;01mNone\u001b[39;00m \u001b[38;5;129;01mand\u001b[39;00m object_pairs_hook \u001b[38;5;129;01mis\u001b[39;00m \u001b[38;5;28;01mNone\u001b[39;00m \u001b[38;5;129;01mand\u001b[39;00m \u001b[38;5;129;01mnot\u001b[39;00m kw):\n\u001b[1;32m--> 346\u001b[0m     \u001b[38;5;28;01mreturn\u001b[39;00m \u001b[43m_default_decoder\u001b[49m\u001b[38;5;241;43m.\u001b[39;49m\u001b[43mdecode\u001b[49m\u001b[43m(\u001b[49m\u001b[43ms\u001b[49m\u001b[43m)\u001b[49m\n\u001b[0;32m    347\u001b[0m \u001b[38;5;28;01mif\u001b[39;00m \u001b[38;5;28mcls\u001b[39m \u001b[38;5;129;01mis\u001b[39;00m \u001b[38;5;28;01mNone\u001b[39;00m:\n",
      "File \u001b[1;32mc:\\Users\\user\\anaconda3\\envs\\ChatBot\\lib\\json\\decoder.py:337\u001b[0m, in \u001b[0;36mJSONDecoder.decode\u001b[1;34m(self, s, _w)\u001b[0m\n\u001b[0;32m    333\u001b[0m \u001b[38;5;250m\u001b[39m\u001b[38;5;124;03m\"\"\"Return the Python representation of ``s`` (a ``str`` instance\u001b[39;00m\n\u001b[0;32m    334\u001b[0m \u001b[38;5;124;03mcontaining a JSON document).\u001b[39;00m\n\u001b[0;32m    335\u001b[0m \n\u001b[0;32m    336\u001b[0m \u001b[38;5;124;03m\"\"\"\u001b[39;00m\n\u001b[1;32m--> 337\u001b[0m obj, end \u001b[38;5;241m=\u001b[39m \u001b[38;5;28;43mself\u001b[39;49m\u001b[38;5;241;43m.\u001b[39;49m\u001b[43mraw_decode\u001b[49m\u001b[43m(\u001b[49m\u001b[43ms\u001b[49m\u001b[43m,\u001b[49m\u001b[43m \u001b[49m\u001b[43midx\u001b[49m\u001b[38;5;241;43m=\u001b[39;49m\u001b[43m_w\u001b[49m\u001b[43m(\u001b[49m\u001b[43ms\u001b[49m\u001b[43m,\u001b[49m\u001b[43m \u001b[49m\u001b[38;5;241;43m0\u001b[39;49m\u001b[43m)\u001b[49m\u001b[38;5;241;43m.\u001b[39;49m\u001b[43mend\u001b[49m\u001b[43m(\u001b[49m\u001b[43m)\u001b[49m\u001b[43m)\u001b[49m\n\u001b[0;32m    338\u001b[0m end \u001b[38;5;241m=\u001b[39m _w(s, end)\u001b[38;5;241m.\u001b[39mend()\n",
      "File \u001b[1;32mc:\\Users\\user\\anaconda3\\envs\\ChatBot\\lib\\json\\decoder.py:355\u001b[0m, in \u001b[0;36mJSONDecoder.raw_decode\u001b[1;34m(self, s, idx)\u001b[0m\n\u001b[0;32m    354\u001b[0m \u001b[38;5;28;01mexcept\u001b[39;00m \u001b[38;5;167;01mStopIteration\u001b[39;00m \u001b[38;5;28;01mas\u001b[39;00m err:\n\u001b[1;32m--> 355\u001b[0m     \u001b[38;5;28;01mraise\u001b[39;00m JSONDecodeError(\u001b[38;5;124m\"\u001b[39m\u001b[38;5;124mExpecting value\u001b[39m\u001b[38;5;124m\"\u001b[39m, s, err\u001b[38;5;241m.\u001b[39mvalue) \u001b[38;5;28;01mfrom\u001b[39;00m \u001b[38;5;28;01mNone\u001b[39;00m\n\u001b[0;32m    356\u001b[0m \u001b[38;5;28;01mreturn\u001b[39;00m obj, end\n",
      "\u001b[1;31mJSONDecodeError\u001b[0m: Expecting value: line 1 column 1 (char 0)",
      "\nDuring handling of the above exception, another exception occurred:\n",
      "\u001b[1;31mJSONDecodeError\u001b[0m                           Traceback (most recent call last)",
      "Cell \u001b[1;32mIn[3], line 17\u001b[0m\n\u001b[0;32m     15\u001b[0m \u001b[38;5;28;01melif\u001b[39;00m response\u001b[38;5;241m.\u001b[39mstatus_code \u001b[38;5;241m==\u001b[39m \u001b[38;5;241m500\u001b[39m:\n\u001b[0;32m     16\u001b[0m     \u001b[38;5;28mprint\u001b[39m(\u001b[38;5;124m\"\u001b[39m\u001b[38;5;124mError:\u001b[39m\u001b[38;5;124m\"\u001b[39m ,\u001b[38;5;124m\"\u001b[39m\u001b[38;5;124m서버에서 오류 발생\u001b[39m\u001b[38;5;124m\"\u001b[39m)\n\u001b[1;32m---> 17\u001b[0m     \u001b[38;5;28mprint\u001b[39m(\u001b[43mresponse\u001b[49m\u001b[38;5;241;43m.\u001b[39;49m\u001b[43mjson\u001b[49m\u001b[43m(\u001b[49m\u001b[43m)\u001b[49m\u001b[38;5;241m.\u001b[39mget(\u001b[38;5;124m\"\u001b[39m\u001b[38;5;124merror\u001b[39m\u001b[38;5;124m\"\u001b[39m))\n\u001b[0;32m     18\u001b[0m \u001b[38;5;28;01melse\u001b[39;00m:\n\u001b[0;32m     19\u001b[0m     \u001b[38;5;28mprint\u001b[39m(\u001b[38;5;124m\"\u001b[39m\u001b[38;5;124mError:\u001b[39m\u001b[38;5;124m\"\u001b[39m, response\u001b[38;5;241m.\u001b[39mjson()\u001b[38;5;241m.\u001b[39mget(\u001b[38;5;124m\"\u001b[39m\u001b[38;5;124merror\u001b[39m\u001b[38;5;124m\"\u001b[39m))\n",
      "File \u001b[1;32mc:\\Users\\user\\anaconda3\\envs\\ChatBot\\lib\\site-packages\\requests\\models.py:978\u001b[0m, in \u001b[0;36mResponse.json\u001b[1;34m(self, **kwargs)\u001b[0m\n\u001b[0;32m    974\u001b[0m     \u001b[38;5;28;01mreturn\u001b[39;00m complexjson\u001b[38;5;241m.\u001b[39mloads(\u001b[38;5;28mself\u001b[39m\u001b[38;5;241m.\u001b[39mtext, \u001b[38;5;241m*\u001b[39m\u001b[38;5;241m*\u001b[39mkwargs)\n\u001b[0;32m    975\u001b[0m \u001b[38;5;28;01mexcept\u001b[39;00m JSONDecodeError \u001b[38;5;28;01mas\u001b[39;00m e:\n\u001b[0;32m    976\u001b[0m     \u001b[38;5;66;03m# Catch JSON-related errors and raise as requests.JSONDecodeError\u001b[39;00m\n\u001b[0;32m    977\u001b[0m     \u001b[38;5;66;03m# This aliases json.JSONDecodeError and simplejson.JSONDecodeError\u001b[39;00m\n\u001b[1;32m--> 978\u001b[0m     \u001b[38;5;28;01mraise\u001b[39;00m RequestsJSONDecodeError(e\u001b[38;5;241m.\u001b[39mmsg, e\u001b[38;5;241m.\u001b[39mdoc, e\u001b[38;5;241m.\u001b[39mpos)\n",
      "\u001b[1;31mJSONDecodeError\u001b[0m: Expecting value: line 1 column 1 (char 0)"
     ]
    }
   ],
   "source": [
    "data = {\n",
    "    \"question\" : \"우울, 속상\"\n",
    "}\n",
    "\n",
    "response = requests.post(url,headers={\"Content-Type\": \"application/json\"}, data=json.dumps(data))\n",
    "\n",
    "# print(f\"응답 상태 코드: {response.status_code}\")\n",
    "# print(f\"응답 내용: {response.text}\")\n",
    "if response.status_code == 200:\n",
    "    print(\"Chatbot response:\", response.json().get(\"response\"))\n",
    "elif response.status_code == 400:\n",
    "    print(\"Error:\", \"입력이 없습니다!!\")\n",
    "    \n",
    "    print(response.json().get(\"error\"))\n",
    "elif response.status_code == 500:\n",
    "    print(\"Error:\" ,\"서버에서 오류 발생\")\n",
    "    print(response.json().get(\"error\"))\n",
    "else:\n",
    "    print(\"Error:\", response.json().get(\"error\"))"
   ]
  },
  {
   "cell_type": "code",
   "execution_count": 18,
   "metadata": {},
   "outputs": [
    {
     "name": "stdout",
     "output_type": "stream",
     "text": [
      "Chatbot response: 너무 자책하지 말아. 누구나 처음에는 적응하는 데 시간이 걸리고 어려움을 겪는다. 그런데 그것이 너를 괴롭히게 만들 필요는 없어. 열심히 노력하고 배우면 되니까. 혹시 도움이 필요하면 언제든지 말해줘. 함께 해결책을 찾아보자.\n"
     ]
    }
   ],
   "source": [
    "data = {\n",
    "    \"question\" : \"내가 일을 너무 못해서 그런걸까?\"\n",
    "}\n",
    "\n",
    "response = requests.post(url,headers={\"Content-Type\": \"application/json\"}, data=json.dumps(data))\n",
    "\n",
    "# print(f\"응답 상태 코드: {response.status_code}\")\n",
    "# print(f\"응답 내용: {response.text}\")\n",
    "if response.status_code == 200:\n",
    "    print(\"Chatbot response:\", response.json().get(\"response\"))\n",
    "elif response.status_code == 400:\n",
    "    print(\"Error:\", \"입력이 없습니다!!\")\n",
    "    \n",
    "    print(response.json().get(\"error\"))\n",
    "elif response.status_code == 500:\n",
    "    print(\"Error:\" ,\"서버에서 오류 발생\")\n",
    "    print(response.json().get(\"error\"))\n",
    "else:\n",
    "    print(\"Error:\", response.json().get(\"error\"))"
   ]
  },
  {
   "cell_type": "code",
   "execution_count": 19,
   "metadata": {},
   "outputs": [
    {
     "name": "stdout",
     "output_type": "stream",
     "text": [
      "Chatbot response: 알겠어. 언제든지 내가 여기 있어. 힘든 일이 생기면 또 말해줘. 고마워. 이제 대화를 마무리해도 될까?\n"
     ]
    }
   ],
   "source": [
    "data = {\n",
    "    \"question\" : \"고마워 이제 그만해줘도 될 거 같아\"\n",
    "}\n",
    "\n",
    "response = requests.post(url,headers={\"Content-Type\": \"application/json\"}, data=json.dumps(data))\n",
    "\n",
    "# print(f\"응답 상태 코드: {response.status_code}\")\n",
    "# print(f\"응답 내용: {response.text}\")\n",
    "if response.status_code == 200:\n",
    "    print(\"Chatbot response:\", response.json().get(\"response\"))\n",
    "elif response.status_code == 400:\n",
    "    print(\"Error:\", \"입력이 없습니다!!\")\n",
    "    \n",
    "    print(response.json().get(\"error\"))\n",
    "elif response.status_code == 500:\n",
    "    print(\"Error:\" ,\"서버에서 오류 발생\")\n",
    "    print(response.json().get(\"error\"))\n",
    "else:\n",
    "    print(\"Error:\", response.json().get(\"error\"))"
   ]
  },
  {
   "cell_type": "code",
   "execution_count": 20,
   "metadata": {},
   "outputs": [
    {
     "name": "stdout",
     "output_type": "stream",
     "text": [
      "Chatbot response: 고마워. 편안한 하루 되길 바래. 필요하면 언제든지 연락해. 안녕~ 혹시 더 필요한 상담이 있다면 언제든지 말해줘. 함께 고민하고 해결책을 찾아보자. 이제 대화를 마무리해도 될까?\n"
     ]
    }
   ],
   "source": [
    "data = {\n",
    "    \"question\" : \"웅\"\n",
    "}\n",
    "\n",
    "response = requests.post(url,headers={\"Content-Type\": \"application/json\"}, data=json.dumps(data))\n",
    "\n",
    "# print(f\"응답 상태 코드: {response.status_code}\")\n",
    "# print(f\"응답 내용: {response.text}\")\n",
    "if response.status_code == 200:\n",
    "    print(\"Chatbot response:\", response.json().get(\"response\"))\n",
    "elif response.status_code == 400:\n",
    "    print(\"Error:\", \"입력이 없습니다!!\")\n",
    "    \n",
    "    print(response.json().get(\"error\"))\n",
    "elif response.status_code == 500:\n",
    "    print(\"Error:\" ,\"서버에서 오류 발생\")\n",
    "    print(response.json().get(\"error\"))\n",
    "else:\n",
    "    print(\"Error:\", response.json().get(\"error\"))"
   ]
  }
 ],
 "metadata": {
  "kernelspec": {
   "display_name": "ChatBot",
   "language": "python",
   "name": "python3"
  },
  "language_info": {
   "codemirror_mode": {
    "name": "ipython",
    "version": 3
   },
   "file_extension": ".py",
   "mimetype": "text/x-python",
   "name": "python",
   "nbconvert_exporter": "python",
   "pygments_lexer": "ipython3",
   "version": "3.9.0"
  }
 },
 "nbformat": 4,
 "nbformat_minor": 2
}
